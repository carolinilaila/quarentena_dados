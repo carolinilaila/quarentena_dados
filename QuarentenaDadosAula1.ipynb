{
  "nbformat": 4,
  "nbformat_minor": 0,
  "metadata": {
    "colab": {
      "name": "QuarentenaDadosAula1",
      "provenance": [],
      "collapsed_sections": [],
      "authorship_tag": "ABX9TyNnmJQ/cvy3I5OKSooEEz5z",
      "include_colab_link": true
    },
    "kernelspec": {
      "name": "python3",
      "display_name": "Python 3"
    }
  },
  "cells": [
    {
      "cell_type": "markdown",
      "metadata": {
        "id": "view-in-github",
        "colab_type": "text"
      },
      "source": [
        "<a href=\"https://colab.research.google.com/github/carolinilaila/quarentena_dados/blob/master/QuarentenaDadosAula1.ipynb\" target=\"_parent\"><img src=\"https://colab.research.google.com/assets/colab-badge.svg\" alt=\"Open In Colab\"/></a>"
      ]
    },
    {
      "cell_type": "code",
      "metadata": {
        "id": "uIePkJty5gig",
        "colab_type": "code",
        "colab": {}
      },
      "source": [
        "\n",
        "import pandas as pd\n",
        "# importando dados direto do GitHub do Professor\n",
        "filmes = pd.read_csv(\"https://raw.githubusercontent.com/alura-cursos/introducao-a-data-science/master/aula0/ml-latest-small/movies.csv\")\n",
        "avaliacoes = pd.read_csv(\"https://github.com/alura-cursos/introducao-a-data-science/blob/master/aula0/ml-latest-small/ratings.csv?raw=true\")"
      ],
      "execution_count": 0,
      "outputs": []
    },
    {
      "cell_type": "code",
      "metadata": {
        "id": "GCt7hfCNy7aV",
        "colab_type": "code",
        "colab": {}
      },
      "source": [
        "# trocando nome das colunas\n",
        "filmes.columns = [\"filmeId\", \"titulo\", \"genero\"]\n",
        "avaliacoes.columns = [\"usuarioId\", \"filmeId\", \"nota\",\"momento\"]\n",
        "avaliacoes.head()"
      ],
      "execution_count": 0,
      "outputs": []
    },
    {
      "cell_type": "code",
      "metadata": {
        "id": "FepUqCp7-xID",
        "colab_type": "code",
        "colab": {}
      },
      "source": [
        "# agrupando coluna \"nota\" na -0-0-\n",
        "notas_medias_por_filme = avaliacoes.groupby(\"filmeId\")[\"nota\"].mean()\n",
        "filmes_com_media = filmes.join(notas_medias_por_filme, on=\"filmeId\")"
      ],
      "execution_count": 0,
      "outputs": []
    },
    {
      "cell_type": "code",
      "metadata": {
        "id": "p5fNNrVf-_1p",
        "colab_type": "code",
        "colab": {}
      },
      "source": [
        "# DESAFIO 2 - mudar nome da coluna \"nota\" para \"media\" após o join\n",
        "filmes_com_media.columns = [\"filmeId\", \"titulo\", \"genero\", \"media\"]\n",
        "filmes_com_media.head()"
      ],
      "execution_count": 0,
      "outputs": []
    },
    {
      "cell_type": "code",
      "metadata": {
        "id": "g_zPABay_Ufy",
        "colab_type": "code",
        "colab": {}
      },
      "source": [
        "# DESAFIO 1 - quais filmes não tiveram nota(média)\n",
        "filmes_com_media.sort_values(\"media\",ascending=False)\n",
        "sem_nota = filmes_com_media[filmes_com_media.isna().any(axis=1)]\n",
        "sem_nota.head(None)"
      ],
      "execution_count": 0,
      "outputs": []
    },
    {
      "cell_type": "code",
      "metadata": {
        "id": "5Abu4_Y4_YFi",
        "colab_type": "code",
        "colab": {}
      },
      "source": [
        "# DESAFIO 4 - arredondar valores de media para 2 casas decimais\n",
        "filmes_com_media.round({'media': 2})"
      ],
      "execution_count": 0,
      "outputs": []
    }
  ]
}