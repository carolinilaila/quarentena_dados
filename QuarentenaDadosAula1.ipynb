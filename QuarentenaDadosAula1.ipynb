{
  "nbformat": 4,
  "nbformat_minor": 0,
  "metadata": {
    "colab": {
      "name": "QuarentenaDadosAula1",
      "provenance": [],
      "authorship_tag": "ABX9TyMoCmiuuUXFQDY41BOBl2Wt",
      "include_colab_link": true
    },
    "kernelspec": {
      "name": "python3",
      "display_name": "Python 3"
    }
  },
  "cells": [
    {
      "cell_type": "markdown",
      "metadata": {
        "id": "view-in-github",
        "colab_type": "text"
      },
      "source": [
        "<a href=\"https://colab.research.google.com/github/carolinilaila/quarentena_dados/blob/master/QuarentenaDadosAula1.ipynb\" target=\"_parent\"><img src=\"https://colab.research.google.com/assets/colab-badge.svg\" alt=\"Open In Colab\"/></a>"
      ]
    },
    {
      "cell_type": "code",
      "metadata": {
        "id": "uIePkJty5gig",
        "colab_type": "code",
        "colab": {
          "base_uri": "https://localhost:8080/",
          "height": 204
        },
        "outputId": "43a867a2-23f1-4ea2-f401-c586f91ec867"
      },
      "source": [
        "import pandas as pd\n",
        "avaliacoes = pd.read_csv(\"ratings.csv\")\n",
        "filmes = pd.read_csv(\"movies.csv\")\n",
        "filmes.columns = [\"filmeId\", \"titulo\", \"genero\"]\n",
        "avaliacoes.columns = [\"usuarioId\", \"filmeId\", \"nota\",\"momento\"]\n",
        "notas_medias_por_filme = avaliacoes.groupby(\"filmeId\")[\"nota\"].mean()\n",
        "filmes_com_media = filmes.join(notas_medias_por_filme, on=\"filmeId\")\n",
        "# Desafio 2\n",
        "filmes_com_media.columns = [\"filmeId\", \"titulo\", \"genero\", \"media\"]\n",
        "# Desafio 1\n",
        "#filmes_com_media.sort_values(\"media\",ascending=False)\n",
        "#sem_nota = filmes_com_media[filmes_com_media.isna().any(axis=1)]\n",
        "#sem_nota.head(None)\n",
        "avaliacoes\n",
        "\n",
        "\n"
      ],
      "execution_count": 113,
      "outputs": [
        {
          "output_type": "execute_result",
          "data": {
            "text/html": [
              "<div>\n",
              "<style scoped>\n",
              "    .dataframe tbody tr th:only-of-type {\n",
              "        vertical-align: middle;\n",
              "    }\n",
              "\n",
              "    .dataframe tbody tr th {\n",
              "        vertical-align: top;\n",
              "    }\n",
              "\n",
              "    .dataframe thead th {\n",
              "        text-align: right;\n",
              "    }\n",
              "</style>\n",
              "<table border=\"1\" class=\"dataframe\">\n",
              "  <thead>\n",
              "    <tr style=\"text-align: right;\">\n",
              "      <th></th>\n",
              "      <th>filmeId</th>\n",
              "      <th>titulo</th>\n",
              "      <th>genero</th>\n",
              "      <th>media</th>\n",
              "    </tr>\n",
              "  </thead>\n",
              "  <tbody>\n",
              "    <tr>\n",
              "      <th>0</th>\n",
              "      <td>1</td>\n",
              "      <td>Toy Story (1995)</td>\n",
              "      <td>Adventure|Animation|Children|Comedy|Fantasy</td>\n",
              "      <td>3.920930</td>\n",
              "    </tr>\n",
              "    <tr>\n",
              "      <th>1</th>\n",
              "      <td>2</td>\n",
              "      <td>Jumanji (1995)</td>\n",
              "      <td>Adventure|Children|Fantasy</td>\n",
              "      <td>3.431818</td>\n",
              "    </tr>\n",
              "    <tr>\n",
              "      <th>2</th>\n",
              "      <td>3</td>\n",
              "      <td>Grumpier Old Men (1995)</td>\n",
              "      <td>Comedy|Romance</td>\n",
              "      <td>3.259615</td>\n",
              "    </tr>\n",
              "    <tr>\n",
              "      <th>3</th>\n",
              "      <td>4</td>\n",
              "      <td>Waiting to Exhale (1995)</td>\n",
              "      <td>Comedy|Drama|Romance</td>\n",
              "      <td>2.357143</td>\n",
              "    </tr>\n",
              "    <tr>\n",
              "      <th>4</th>\n",
              "      <td>5</td>\n",
              "      <td>Father of the Bride Part II (1995)</td>\n",
              "      <td>Comedy</td>\n",
              "      <td>3.071429</td>\n",
              "    </tr>\n",
              "  </tbody>\n",
              "</table>\n",
              "</div>"
            ],
            "text/plain": [
              "   filmeId                              titulo  \\\n",
              "0        1                    Toy Story (1995)   \n",
              "1        2                      Jumanji (1995)   \n",
              "2        3             Grumpier Old Men (1995)   \n",
              "3        4            Waiting to Exhale (1995)   \n",
              "4        5  Father of the Bride Part II (1995)   \n",
              "\n",
              "                                        genero     media  \n",
              "0  Adventure|Animation|Children|Comedy|Fantasy  3.920930  \n",
              "1                   Adventure|Children|Fantasy  3.431818  \n",
              "2                               Comedy|Romance  3.259615  \n",
              "3                         Comedy|Drama|Romance  2.357143  \n",
              "4                                       Comedy  3.071429  "
            ]
          },
          "metadata": {
            "tags": []
          },
          "execution_count": 113
        }
      ]
    },
    {
      "cell_type": "code",
      "metadata": {
        "id": "cU3dWCu5U0e7",
        "colab_type": "code",
        "colab": {}
      },
      "source": [
        "#@title Dicas { display-mode: \"form\" }\n",
        "#avaliacoes.head()\n",
        "#lendo documentação\n",
        "#?avaliacoes\n",
        "#número de linhas\n",
        "#len(avaliacoes)\n",
        "#matriz - linhas e colunas\n",
        "#avaliacoes.shape\n",
        "# redefinição do nome das colunas\n",
        "#avaliacoes.head()\n",
        "#visao geral do filmeId == 1\n",
        "#avaliacoes.query(\"filmeId==1\")\n",
        "#avaliacoes.query(\"filmeId==1\").describe()\n",
        "#mediana do filmeId==1 da coluna nota\n",
        "#avaliacoes.query(\"filmeId==1\")[\"nota\"].mean()\n",
        "#visao geral das colunas (nota com máx e min)\n",
        "#avaliacoes.describe()\n",
        "#agrupando todos os filmes\n",
        "#avaliacoes.groupby(\"filmeId\")\n",
        "#mediana das notas dos filmes de acordo com o Id\n",
        "# Contagem de todos os filmes, incluindo media nula\n",
        "#print(filmes_com_media.media.count())\n",
        "# Contando valores nulos na tabela\n",
        "#print(filmes_com_media.media.isna().sum())\n"
      ],
      "execution_count": 0,
      "outputs": []
    },
    {
      "cell_type": "code",
      "metadata": {
        "id": "GCt7hfCNy7aV",
        "colab_type": "code",
        "colab": {}
      },
      "source": [
        ""
      ],
      "execution_count": 0,
      "outputs": []
    }
  ]
}