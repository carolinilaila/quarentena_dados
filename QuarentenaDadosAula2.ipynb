{
  "nbformat": 4,
  "nbformat_minor": 0,
  "metadata": {
    "colab": {
      "name": "QuarentenaDadosAula2",
      "provenance": [],
      "collapsed_sections": [],
      "authorship_tag": "ABX9TyN1e6NLbchVtNCvDrr8/r0c",
      "include_colab_link": true
    },
    "kernelspec": {
      "name": "python3",
      "display_name": "Python 3"
    }
  },
  "cells": [
    {
      "cell_type": "markdown",
      "metadata": {
        "id": "view-in-github",
        "colab_type": "text"
      },
      "source": [
        "<a href=\"https://colab.research.google.com/github/carolinilaila/quarentena_dados/blob/master/QuarentenaDadosAula2.ipynb\" target=\"_parent\"><img src=\"https://colab.research.google.com/assets/colab-badge.svg\" alt=\"Open In Colab\"/></a>"
      ]
    },
    {
      "cell_type": "code",
      "metadata": {
        "id": "DzNGYS7RwgC3",
        "colab_type": "code",
        "colab": {}
      },
      "source": [
        "import pandas as pd\n",
        "import seaborn as sns\n",
        "import matplotlib.pyplot as plt\n",
        "% matplotlib inline\n",
        "\n",
        "# importando dados direto do GitHub do Professor e definindo nome de variáveis para cada tabela\n",
        "filmes = pd.read_csv(\"https://raw.githubusercontent.com/alura-cursos/introducao-a-data-science/master/aula0/ml-latest-small/movies.csv\")\n",
        "avaliacoes = pd.read_csv(\"https://github.com/alura-cursos/introducao-a-data-science/blob/master/aula0/ml-latest-small/ratings.csv?raw=true\")"
      ],
      "execution_count": 0,
      "outputs": []
    },
    {
      "cell_type": "code",
      "metadata": {
        "id": "HON2-4aexk6C",
        "colab_type": "code",
        "colab": {
          "base_uri": "https://localhost:8080/",
          "height": 197
        },
        "outputId": "22f159dc-e5bf-4f2b-b6ea-b44b7cb77aac"
      },
      "source": [
        "# Trocando nome das colunas\n",
        "\n",
        "filmes.columns = [\"filmeId\", \"titulo\", \"genero\"]\n",
        "avaliacoes.columns = [\"usuarioId\", \"filmeId\", \"media\",\"momento\"]\n",
        "avaliacoes.head()"
      ],
      "execution_count": 304,
      "outputs": [
        {
          "output_type": "execute_result",
          "data": {
            "text/html": [
              "<div>\n",
              "<style scoped>\n",
              "    .dataframe tbody tr th:only-of-type {\n",
              "        vertical-align: middle;\n",
              "    }\n",
              "\n",
              "    .dataframe tbody tr th {\n",
              "        vertical-align: top;\n",
              "    }\n",
              "\n",
              "    .dataframe thead th {\n",
              "        text-align: right;\n",
              "    }\n",
              "</style>\n",
              "<table border=\"1\" class=\"dataframe\">\n",
              "  <thead>\n",
              "    <tr style=\"text-align: right;\">\n",
              "      <th></th>\n",
              "      <th>usuarioId</th>\n",
              "      <th>filmeId</th>\n",
              "      <th>media</th>\n",
              "      <th>momento</th>\n",
              "    </tr>\n",
              "  </thead>\n",
              "  <tbody>\n",
              "    <tr>\n",
              "      <th>0</th>\n",
              "      <td>1</td>\n",
              "      <td>1</td>\n",
              "      <td>4.0</td>\n",
              "      <td>964982703</td>\n",
              "    </tr>\n",
              "    <tr>\n",
              "      <th>1</th>\n",
              "      <td>1</td>\n",
              "      <td>3</td>\n",
              "      <td>4.0</td>\n",
              "      <td>964981247</td>\n",
              "    </tr>\n",
              "    <tr>\n",
              "      <th>2</th>\n",
              "      <td>1</td>\n",
              "      <td>6</td>\n",
              "      <td>4.0</td>\n",
              "      <td>964982224</td>\n",
              "    </tr>\n",
              "    <tr>\n",
              "      <th>3</th>\n",
              "      <td>1</td>\n",
              "      <td>47</td>\n",
              "      <td>5.0</td>\n",
              "      <td>964983815</td>\n",
              "    </tr>\n",
              "    <tr>\n",
              "      <th>4</th>\n",
              "      <td>1</td>\n",
              "      <td>50</td>\n",
              "      <td>5.0</td>\n",
              "      <td>964982931</td>\n",
              "    </tr>\n",
              "  </tbody>\n",
              "</table>\n",
              "</div>"
            ],
            "text/plain": [
              "   usuarioId  filmeId  media    momento\n",
              "0          1        1    4.0  964982703\n",
              "1          1        3    4.0  964981247\n",
              "2          1        6    4.0  964982224\n",
              "3          1       47    5.0  964983815\n",
              "4          1       50    5.0  964982931"
            ]
          },
          "metadata": {
            "tags": []
          },
          "execution_count": 304
        }
      ]
    },
    {
      "cell_type": "code",
      "metadata": {
        "id": "4hCppIRzxnwj",
        "colab_type": "code",
        "colab": {
          "base_uri": "https://localhost:8080/",
          "height": 197
        },
        "outputId": "a30179d6-0576-4e5f-b35c-a3974d647290"
      },
      "source": [
        "# Criando um dataframe com o valor da nota(média) e agrupando na tabela avaliações \n",
        "\n",
        "notas_medias_por_filme = avaliacoes.groupby(\"filmeId\")[\"media\"].mean()\n",
        "filmes_com_media = filmes.join(notas_medias_por_filme, on=\"filmeId\")\n",
        "filmes_com_media.columns = [\"filmeId\", \"titulo\", \"genero\", \"media\"]\n",
        "filmes_com_media.head()"
      ],
      "execution_count": 303,
      "outputs": [
        {
          "output_type": "execute_result",
          "data": {
            "text/html": [
              "<div>\n",
              "<style scoped>\n",
              "    .dataframe tbody tr th:only-of-type {\n",
              "        vertical-align: middle;\n",
              "    }\n",
              "\n",
              "    .dataframe tbody tr th {\n",
              "        vertical-align: top;\n",
              "    }\n",
              "\n",
              "    .dataframe thead th {\n",
              "        text-align: right;\n",
              "    }\n",
              "</style>\n",
              "<table border=\"1\" class=\"dataframe\">\n",
              "  <thead>\n",
              "    <tr style=\"text-align: right;\">\n",
              "      <th></th>\n",
              "      <th>filmeId</th>\n",
              "      <th>titulo</th>\n",
              "      <th>genero</th>\n",
              "      <th>media</th>\n",
              "    </tr>\n",
              "  </thead>\n",
              "  <tbody>\n",
              "    <tr>\n",
              "      <th>0</th>\n",
              "      <td>1</td>\n",
              "      <td>Toy Story (1995)</td>\n",
              "      <td>Adventure|Animation|Children|Comedy|Fantasy</td>\n",
              "      <td>3.920930</td>\n",
              "    </tr>\n",
              "    <tr>\n",
              "      <th>1</th>\n",
              "      <td>2</td>\n",
              "      <td>Jumanji (1995)</td>\n",
              "      <td>Adventure|Children|Fantasy</td>\n",
              "      <td>3.431818</td>\n",
              "    </tr>\n",
              "    <tr>\n",
              "      <th>2</th>\n",
              "      <td>3</td>\n",
              "      <td>Grumpier Old Men (1995)</td>\n",
              "      <td>Comedy|Romance</td>\n",
              "      <td>3.259615</td>\n",
              "    </tr>\n",
              "    <tr>\n",
              "      <th>3</th>\n",
              "      <td>4</td>\n",
              "      <td>Waiting to Exhale (1995)</td>\n",
              "      <td>Comedy|Drama|Romance</td>\n",
              "      <td>2.357143</td>\n",
              "    </tr>\n",
              "    <tr>\n",
              "      <th>4</th>\n",
              "      <td>5</td>\n",
              "      <td>Father of the Bride Part II (1995)</td>\n",
              "      <td>Comedy</td>\n",
              "      <td>3.071429</td>\n",
              "    </tr>\n",
              "  </tbody>\n",
              "</table>\n",
              "</div>"
            ],
            "text/plain": [
              "   filmeId  ...     media\n",
              "0        1  ...  3.920930\n",
              "1        2  ...  3.431818\n",
              "2        3  ...  3.259615\n",
              "3        4  ...  2.357143\n",
              "4        5  ...  3.071429\n",
              "\n",
              "[5 rows x 4 columns]"
            ]
          },
          "metadata": {
            "tags": []
          },
          "execution_count": 303
        }
      ]
    },
    {
      "cell_type": "code",
      "metadata": {
        "id": "-REYCFOOxtoo",
        "colab_type": "code",
        "colab": {
          "base_uri": "https://localhost:8080/",
          "height": 406
        },
        "outputId": "ca675b29-e5f5-476f-d6cc-c29953999a45"
      },
      "source": [
        "# Arredondar valores de media para 2 casas decimais\n",
        "\n",
        "fimes_com_media = filmes_com_media.round({'media': 2})\n",
        "filmes_com_media"
      ],
      "execution_count": 302,
      "outputs": [
        {
          "output_type": "execute_result",
          "data": {
            "text/html": [
              "<div>\n",
              "<style scoped>\n",
              "    .dataframe tbody tr th:only-of-type {\n",
              "        vertical-align: middle;\n",
              "    }\n",
              "\n",
              "    .dataframe tbody tr th {\n",
              "        vertical-align: top;\n",
              "    }\n",
              "\n",
              "    .dataframe thead th {\n",
              "        text-align: right;\n",
              "    }\n",
              "</style>\n",
              "<table border=\"1\" class=\"dataframe\">\n",
              "  <thead>\n",
              "    <tr style=\"text-align: right;\">\n",
              "      <th></th>\n",
              "      <th>filmeId</th>\n",
              "      <th>titulo</th>\n",
              "      <th>genero</th>\n",
              "      <th>media</th>\n",
              "    </tr>\n",
              "  </thead>\n",
              "  <tbody>\n",
              "    <tr>\n",
              "      <th>0</th>\n",
              "      <td>1</td>\n",
              "      <td>Toy Story (1995)</td>\n",
              "      <td>Adventure|Animation|Children|Comedy|Fantasy</td>\n",
              "      <td>3.920930</td>\n",
              "    </tr>\n",
              "    <tr>\n",
              "      <th>1</th>\n",
              "      <td>2</td>\n",
              "      <td>Jumanji (1995)</td>\n",
              "      <td>Adventure|Children|Fantasy</td>\n",
              "      <td>3.431818</td>\n",
              "    </tr>\n",
              "    <tr>\n",
              "      <th>2</th>\n",
              "      <td>3</td>\n",
              "      <td>Grumpier Old Men (1995)</td>\n",
              "      <td>Comedy|Romance</td>\n",
              "      <td>3.259615</td>\n",
              "    </tr>\n",
              "    <tr>\n",
              "      <th>3</th>\n",
              "      <td>4</td>\n",
              "      <td>Waiting to Exhale (1995)</td>\n",
              "      <td>Comedy|Drama|Romance</td>\n",
              "      <td>2.357143</td>\n",
              "    </tr>\n",
              "    <tr>\n",
              "      <th>4</th>\n",
              "      <td>5</td>\n",
              "      <td>Father of the Bride Part II (1995)</td>\n",
              "      <td>Comedy</td>\n",
              "      <td>3.071429</td>\n",
              "    </tr>\n",
              "    <tr>\n",
              "      <th>...</th>\n",
              "      <td>...</td>\n",
              "      <td>...</td>\n",
              "      <td>...</td>\n",
              "      <td>...</td>\n",
              "    </tr>\n",
              "    <tr>\n",
              "      <th>9737</th>\n",
              "      <td>193581</td>\n",
              "      <td>Black Butler: Book of the Atlantic (2017)</td>\n",
              "      <td>Action|Animation|Comedy|Fantasy</td>\n",
              "      <td>4.000000</td>\n",
              "    </tr>\n",
              "    <tr>\n",
              "      <th>9738</th>\n",
              "      <td>193583</td>\n",
              "      <td>No Game No Life: Zero (2017)</td>\n",
              "      <td>Animation|Comedy|Fantasy</td>\n",
              "      <td>3.500000</td>\n",
              "    </tr>\n",
              "    <tr>\n",
              "      <th>9739</th>\n",
              "      <td>193585</td>\n",
              "      <td>Flint (2017)</td>\n",
              "      <td>Drama</td>\n",
              "      <td>3.500000</td>\n",
              "    </tr>\n",
              "    <tr>\n",
              "      <th>9740</th>\n",
              "      <td>193587</td>\n",
              "      <td>Bungo Stray Dogs: Dead Apple (2018)</td>\n",
              "      <td>Action|Animation</td>\n",
              "      <td>3.500000</td>\n",
              "    </tr>\n",
              "    <tr>\n",
              "      <th>9741</th>\n",
              "      <td>193609</td>\n",
              "      <td>Andrew Dice Clay: Dice Rules (1991)</td>\n",
              "      <td>Comedy</td>\n",
              "      <td>4.000000</td>\n",
              "    </tr>\n",
              "  </tbody>\n",
              "</table>\n",
              "<p>9742 rows × 4 columns</p>\n",
              "</div>"
            ],
            "text/plain": [
              "      filmeId  ...     media\n",
              "0           1  ...  3.920930\n",
              "1           2  ...  3.431818\n",
              "2           3  ...  3.259615\n",
              "3           4  ...  2.357143\n",
              "4           5  ...  3.071429\n",
              "...       ...  ...       ...\n",
              "9737   193581  ...  4.000000\n",
              "9738   193583  ...  3.500000\n",
              "9739   193585  ...  3.500000\n",
              "9740   193587  ...  3.500000\n",
              "9741   193609  ...  4.000000\n",
              "\n",
              "[9742 rows x 4 columns]"
            ]
          },
          "metadata": {
            "tags": []
          },
          "execution_count": 302
        }
      ]
    },
    {
      "cell_type": "code",
      "metadata": {
        "id": "2yNcN7x7yKjA",
        "colab_type": "code",
        "colab": {
          "base_uri": "https://localhost:8080/",
          "height": 390
        },
        "outputId": "1c1dca05-018a-4d30-f50b-1a597f893d35"
      },
      "source": [
        "# Separa a lista \"genero\" em série e soma as séries e colocar em ordem decrescente\n",
        "\n",
        "filmes[\"genero\"].str.get_dummies('|').sum().sort_values(ascending=False)"
      ],
      "execution_count": 301,
      "outputs": [
        {
          "output_type": "execute_result",
          "data": {
            "text/plain": [
              "Drama                 4361\n",
              "Comedy                3756\n",
              "Thriller              1894\n",
              "Action                1828\n",
              "Romance               1596\n",
              "Adventure             1263\n",
              "Crime                 1199\n",
              "Sci-Fi                 980\n",
              "Horror                 978\n",
              "Fantasy                779\n",
              "Children               664\n",
              "Animation              611\n",
              "Mystery                573\n",
              "Documentary            440\n",
              "War                    382\n",
              "Musical                334\n",
              "Western                167\n",
              "IMAX                   158\n",
              "Film-Noir               87\n",
              "(no genres listed)      34\n",
              "dtype: int64"
            ]
          },
          "metadata": {
            "tags": []
          },
          "execution_count": 301
        }
      ]
    },
    {
      "cell_type": "code",
      "metadata": {
        "id": "6YbNN98ayTOT",
        "colab_type": "code",
        "colab": {
          "base_uri": "https://localhost:8080/",
          "height": 390
        },
        "outputId": "339b671c-3a89-4221-b60b-1c7988bd9dcb"
      },
      "source": [
        "# Separa a lista \"genero\" em série e ordena pelo indice (ordem alfabética)\n",
        "\n",
        "filmes[\"genero\"].str.get_dummies('|').sum().sort_index(ascending=False)"
      ],
      "execution_count": 300,
      "outputs": [
        {
          "output_type": "execute_result",
          "data": {
            "text/plain": [
              "Western                167\n",
              "War                    382\n",
              "Thriller              1894\n",
              "Sci-Fi                 980\n",
              "Romance               1596\n",
              "Mystery                573\n",
              "Musical                334\n",
              "IMAX                   158\n",
              "Horror                 978\n",
              "Film-Noir               87\n",
              "Fantasy                779\n",
              "Drama                 4361\n",
              "Documentary            440\n",
              "Crime                 1199\n",
              "Comedy                3756\n",
              "Children               664\n",
              "Animation              611\n",
              "Adventure             1263\n",
              "Action                1828\n",
              "(no genres listed)      34\n",
              "dtype: int64"
            ]
          },
          "metadata": {
            "tags": []
          },
          "execution_count": 300
        }
      ]
    },
    {
      "cell_type": "code",
      "metadata": {
        "id": "EQyHijIH04ii",
        "colab_type": "code",
        "colab": {
          "base_uri": "https://localhost:8080/",
          "height": 551
        },
        "outputId": "2733aadf-7c17-4155-928b-0619a0cc7a6b"
      },
      "source": [
        "# DESAFIO 1 - Rotacionar os ticks(os nomes dos gêneros)\n",
        "sns.set_style(\"whitegrid\")\n",
        "filmes_por_genero = filmes[\"genero\"].str.get_dummies('|').sum().sort_values(ascending=False)\n",
        "plt.figure(figsize=(16,8))\n",
        "plt.xticks(rotation=45)\n",
        "sns.barplot(x=filmes_por_genero.index,\n",
        "            y=filmes_por_genero.values,\n",
        "            palette = sns.color_palette(\"GnBu_d\", n_colors=len(filmes_por_genero + 4)))\n",
        "plt.show()\n"
      ],
      "execution_count": 299,
      "outputs": [
        {
          "output_type": "display_data",
          "data": {
            "image/png": "[encoded data removed]",
            "text/plain": [
              "<Figure size 1152x576 with 1 Axes>"
            ]
          },
          "metadata": {
            "tags": []
          }
        }
      ]
    },
    {
      "cell_type": "code",
      "metadata": {
        "id": "L-bM54arErRj",
        "colab_type": "code",
        "colab": {
          "base_uri": "https://localhost:8080/",
          "height": 303
        },
        "outputId": "ee99ba9a-c3fa-409b-a720-159e6d5c6d00"
      },
      "source": [
        "# Gráfico da média de votos para o filme1, Toy Story\n",
        "\n",
        "notas_do_filme_1 = avaliacoes.query(\"filmeId==1\")[\"media\"]\n",
        "print(notas_do_filme_1.mean())\n",
        "notas_do_filme_1.plot(kind='hist')\n"
      ],
      "execution_count": 298,
      "outputs": [
        {
          "output_type": "stream",
          "text": [
            "3.9209302325581397\n"
          ],
          "name": "stdout"
        },
        {
          "output_type": "execute_result",
          "data": {
            "text/plain": [
              "<matplotlib.axes._subplots.AxesSubplot at 0x7f904a66fef0>"
            ]
          },
          "metadata": {
            "tags": []
          },
          "execution_count": 298
        },
        {
          "output_type": "display_data",
          "data": {
            "image/png": "[encoded data removed]",
            "text/plain": [
              "<Figure size 432x288 with 1 Axes>"
            ]
          },
          "metadata": {
            "tags": []
          }
        }
      ]
    },
    {
      "cell_type": "code",
      "metadata": {
        "id": "T3-OLH3TFfuT",
        "colab_type": "code",
        "colab": {
          "base_uri": "https://localhost:8080/",
          "height": 1000
        },
        "outputId": "02007165-d5c7-4ae2-deee-051d45b67d37"
      },
      "source": [
        "# Buscando no range entre 2450:2500 a média de filmes\n",
        "\n",
        "filmes_com_media.sort_values(\"media\", ascending=False)[1050:1100]"
      ],
      "execution_count": 297,
      "outputs": [
        {
          "output_type": "execute_result",
          "data": {
            "text/html": [
              "<div>\n",
              "<style scoped>\n",
              "    .dataframe tbody tr th:only-of-type {\n",
              "        vertical-align: middle;\n",
              "    }\n",
              "\n",
              "    .dataframe tbody tr th {\n",
              "        vertical-align: top;\n",
              "    }\n",
              "\n",
              "    .dataframe thead th {\n",
              "        text-align: right;\n",
              "    }\n",
              "</style>\n",
              "<table border=\"1\" class=\"dataframe\">\n",
              "  <thead>\n",
              "    <tr style=\"text-align: right;\">\n",
              "      <th></th>\n",
              "      <th>filmeId</th>\n",
              "      <th>titulo</th>\n",
              "      <th>genero</th>\n",
              "      <th>media</th>\n",
              "    </tr>\n",
              "  </thead>\n",
              "  <tbody>\n",
              "    <tr>\n",
              "      <th>2276</th>\n",
              "      <td>3019</td>\n",
              "      <td>Drugstore Cowboy (1989)</td>\n",
              "      <td>Crime|Drama</td>\n",
              "      <td>4.150000</td>\n",
              "    </tr>\n",
              "    <tr>\n",
              "      <th>905</th>\n",
              "      <td>1203</td>\n",
              "      <td>12 Angry Men (1957)</td>\n",
              "      <td>Drama</td>\n",
              "      <td>4.149123</td>\n",
              "    </tr>\n",
              "    <tr>\n",
              "      <th>2372</th>\n",
              "      <td>3147</td>\n",
              "      <td>Green Mile, The (1999)</td>\n",
              "      <td>Crime|Drama</td>\n",
              "      <td>4.148649</td>\n",
              "    </tr>\n",
              "    <tr>\n",
              "      <th>596</th>\n",
              "      <td>741</td>\n",
              "      <td>Ghost in the Shell (Kôkaku kidôtai) (1995)</td>\n",
              "      <td>Animation|Sci-Fi</td>\n",
              "      <td>4.148148</td>\n",
              "    </tr>\n",
              "    <tr>\n",
              "      <th>1730</th>\n",
              "      <td>2324</td>\n",
              "      <td>Life Is Beautiful (La Vita è bella) (1997)</td>\n",
              "      <td>Comedy|Drama|Romance|War</td>\n",
              "      <td>4.147727</td>\n",
              "    </tr>\n",
              "    <tr>\n",
              "      <th>4176</th>\n",
              "      <td>6016</td>\n",
              "      <td>City of God (Cidade de Deus) (2002)</td>\n",
              "      <td>Action|Adventure|Crime|Drama|Thriller</td>\n",
              "      <td>4.146667</td>\n",
              "    </tr>\n",
              "    <tr>\n",
              "      <th>1503</th>\n",
              "      <td>2028</td>\n",
              "      <td>Saving Private Ryan (1998)</td>\n",
              "      <td>Action|Drama|War</td>\n",
              "      <td>4.146277</td>\n",
              "    </tr>\n",
              "    <tr>\n",
              "      <th>2290</th>\n",
              "      <td>3037</td>\n",
              "      <td>Little Big Man (1970)</td>\n",
              "      <td>Western</td>\n",
              "      <td>4.145833</td>\n",
              "    </tr>\n",
              "    <tr>\n",
              "      <th>903</th>\n",
              "      <td>1201</td>\n",
              "      <td>Good, the Bad and the Ugly, The (Buono, il bru...</td>\n",
              "      <td>Action|Adventure|Western</td>\n",
              "      <td>4.145833</td>\n",
              "    </tr>\n",
              "    <tr>\n",
              "      <th>983</th>\n",
              "      <td>1284</td>\n",
              "      <td>Big Sleep, The (1946)</td>\n",
              "      <td>Crime|Film-Noir|Mystery</td>\n",
              "      <td>4.142857</td>\n",
              "    </tr>\n",
              "    <tr>\n",
              "      <th>1650</th>\n",
              "      <td>2203</td>\n",
              "      <td>Shadow of a Doubt (1943)</td>\n",
              "      <td>Crime|Drama|Thriller</td>\n",
              "      <td>4.142857</td>\n",
              "    </tr>\n",
              "    <tr>\n",
              "      <th>9461</th>\n",
              "      <td>168248</td>\n",
              "      <td>John Wick: Chapter Two (2017)</td>\n",
              "      <td>Action|Crime|Thriller</td>\n",
              "      <td>4.142857</td>\n",
              "    </tr>\n",
              "    <tr>\n",
              "      <th>6201</th>\n",
              "      <td>45210</td>\n",
              "      <td>United 93 (2006)</td>\n",
              "      <td>Crime|Drama</td>\n",
              "      <td>4.142857</td>\n",
              "    </tr>\n",
              "    <tr>\n",
              "      <th>1532</th>\n",
              "      <td>2067</td>\n",
              "      <td>Doctor Zhivago (1965)</td>\n",
              "      <td>Drama|Romance|War</td>\n",
              "      <td>4.142857</td>\n",
              "    </tr>\n",
              "    <tr>\n",
              "      <th>7384</th>\n",
              "      <td>79357</td>\n",
              "      <td>Mr. Nobody (2009)</td>\n",
              "      <td>Drama|Fantasy|Romance|Sci-Fi</td>\n",
              "      <td>4.142857</td>\n",
              "    </tr>\n",
              "    <tr>\n",
              "      <th>6648</th>\n",
              "      <td>56782</td>\n",
              "      <td>There Will Be Blood (2007)</td>\n",
              "      <td>Drama|Western</td>\n",
              "      <td>4.142857</td>\n",
              "    </tr>\n",
              "    <tr>\n",
              "      <th>1590</th>\n",
              "      <td>2132</td>\n",
              "      <td>Who's Afraid of Virginia Woolf? (1966)</td>\n",
              "      <td>Drama</td>\n",
              "      <td>4.142857</td>\n",
              "    </tr>\n",
              "    <tr>\n",
              "      <th>688</th>\n",
              "      <td>906</td>\n",
              "      <td>Gaslight (1944)</td>\n",
              "      <td>Drama|Thriller</td>\n",
              "      <td>4.142857</td>\n",
              "    </tr>\n",
              "    <tr>\n",
              "      <th>911</th>\n",
              "      <td>1210</td>\n",
              "      <td>Star Wars: Episode VI - Return of the Jedi (1983)</td>\n",
              "      <td>Action|Adventure|Sci-Fi</td>\n",
              "      <td>4.137755</td>\n",
              "    </tr>\n",
              "    <tr>\n",
              "      <th>6926</th>\n",
              "      <td>64716</td>\n",
              "      <td>Seven Pounds (2008)</td>\n",
              "      <td>Drama</td>\n",
              "      <td>4.136364</td>\n",
              "    </tr>\n",
              "    <tr>\n",
              "      <th>7010</th>\n",
              "      <td>68157</td>\n",
              "      <td>Inglourious Basterds (2009)</td>\n",
              "      <td>Action|Drama|War</td>\n",
              "      <td>4.136364</td>\n",
              "    </tr>\n",
              "    <tr>\n",
              "      <th>2868</th>\n",
              "      <td>3836</td>\n",
              "      <td>Kelly's Heroes (1970)</td>\n",
              "      <td>Action|Comedy|War</td>\n",
              "      <td>4.133333</td>\n",
              "    </tr>\n",
              "    <tr>\n",
              "      <th>980</th>\n",
              "      <td>1281</td>\n",
              "      <td>Great Dictator, The (1940)</td>\n",
              "      <td>Comedy|Drama|War</td>\n",
              "      <td>4.133333</td>\n",
              "    </tr>\n",
              "    <tr>\n",
              "      <th>961</th>\n",
              "      <td>1262</td>\n",
              "      <td>Great Escape, The (1963)</td>\n",
              "      <td>Action|Adventure|Drama|War</td>\n",
              "      <td>4.127907</td>\n",
              "    </tr>\n",
              "    <tr>\n",
              "      <th>1072</th>\n",
              "      <td>1392</td>\n",
              "      <td>Citizen Ruth (1996)</td>\n",
              "      <td>Comedy|Drama</td>\n",
              "      <td>4.125000</td>\n",
              "    </tr>\n",
              "    <tr>\n",
              "      <th>3324</th>\n",
              "      <td>4499</td>\n",
              "      <td>Dirty Rotten Scoundrels (1988)</td>\n",
              "      <td>Comedy</td>\n",
              "      <td>4.125000</td>\n",
              "    </tr>\n",
              "    <tr>\n",
              "      <th>1738</th>\n",
              "      <td>2333</td>\n",
              "      <td>Gods and Monsters (1998)</td>\n",
              "      <td>Drama</td>\n",
              "      <td>4.125000</td>\n",
              "    </tr>\n",
              "    <tr>\n",
              "      <th>4993</th>\n",
              "      <td>7706</td>\n",
              "      <td>Animal Crackers (1930)</td>\n",
              "      <td>Comedy|Musical</td>\n",
              "      <td>4.125000</td>\n",
              "    </tr>\n",
              "    <tr>\n",
              "      <th>978</th>\n",
              "      <td>1279</td>\n",
              "      <td>Night on Earth (1991)</td>\n",
              "      <td>Comedy|Drama</td>\n",
              "      <td>4.125000</td>\n",
              "    </tr>\n",
              "    <tr>\n",
              "      <th>976</th>\n",
              "      <td>1277</td>\n",
              "      <td>Cyrano de Bergerac (1990)</td>\n",
              "      <td>Comedy|Drama|Romance</td>\n",
              "      <td>4.125000</td>\n",
              "    </tr>\n",
              "    <tr>\n",
              "      <th>2963</th>\n",
              "      <td>3972</td>\n",
              "      <td>Legend of Drunken Master, The (Jui kuen II) (1...</td>\n",
              "      <td>Action|Comedy</td>\n",
              "      <td>4.125000</td>\n",
              "    </tr>\n",
              "    <tr>\n",
              "      <th>2481</th>\n",
              "      <td>3306</td>\n",
              "      <td>Circus, The (1928)</td>\n",
              "      <td>Comedy</td>\n",
              "      <td>4.125000</td>\n",
              "    </tr>\n",
              "    <tr>\n",
              "      <th>8229</th>\n",
              "      <td>104069</td>\n",
              "      <td>Louis C.K.: Oh My God (2013)</td>\n",
              "      <td>Comedy</td>\n",
              "      <td>4.125000</td>\n",
              "    </tr>\n",
              "    <tr>\n",
              "      <th>158</th>\n",
              "      <td>187</td>\n",
              "      <td>Party Girl (1995)</td>\n",
              "      <td>Comedy</td>\n",
              "      <td>4.125000</td>\n",
              "    </tr>\n",
              "    <tr>\n",
              "      <th>6044</th>\n",
              "      <td>39869</td>\n",
              "      <td>Manderlay (2005)</td>\n",
              "      <td>Drama</td>\n",
              "      <td>4.125000</td>\n",
              "    </tr>\n",
              "    <tr>\n",
              "      <th>9496</th>\n",
              "      <td>170697</td>\n",
              "      <td>Gifted (2017)</td>\n",
              "      <td>Drama</td>\n",
              "      <td>4.125000</td>\n",
              "    </tr>\n",
              "    <tr>\n",
              "      <th>2856</th>\n",
              "      <td>3822</td>\n",
              "      <td>Girl on the Bridge, The (Fille sur le pont, La...</td>\n",
              "      <td>Drama|Romance</td>\n",
              "      <td>4.125000</td>\n",
              "    </tr>\n",
              "    <tr>\n",
              "      <th>8666</th>\n",
              "      <td>121231</td>\n",
              "      <td>It Follows (2014)</td>\n",
              "      <td>Horror</td>\n",
              "      <td>4.125000</td>\n",
              "    </tr>\n",
              "    <tr>\n",
              "      <th>2334</th>\n",
              "      <td>3091</td>\n",
              "      <td>Kagemusha (1980)</td>\n",
              "      <td>Drama|War</td>\n",
              "      <td>4.125000</td>\n",
              "    </tr>\n",
              "    <tr>\n",
              "      <th>1531</th>\n",
              "      <td>2066</td>\n",
              "      <td>Out of the Past (1947)</td>\n",
              "      <td>Film-Noir</td>\n",
              "      <td>4.125000</td>\n",
              "    </tr>\n",
              "    <tr>\n",
              "      <th>2739</th>\n",
              "      <td>3677</td>\n",
              "      <td>Baraka (1992)</td>\n",
              "      <td>Documentary</td>\n",
              "      <td>4.125000</td>\n",
              "    </tr>\n",
              "    <tr>\n",
              "      <th>583</th>\n",
              "      <td>718</td>\n",
              "      <td>Visitors, The (Visiteurs, Les) (1993)</td>\n",
              "      <td>Comedy|Fantasy|Sci-Fi</td>\n",
              "      <td>4.125000</td>\n",
              "    </tr>\n",
              "    <tr>\n",
              "      <th>563</th>\n",
              "      <td>680</td>\n",
              "      <td>Alphaville (Alphaville, une étrange aventure d...</td>\n",
              "      <td>Drama|Mystery|Romance|Sci-Fi|Thriller</td>\n",
              "      <td>4.125000</td>\n",
              "    </tr>\n",
              "    <tr>\n",
              "      <th>8264</th>\n",
              "      <td>105197</td>\n",
              "      <td>Nebraska (2013)</td>\n",
              "      <td>Adventure|Drama</td>\n",
              "      <td>4.125000</td>\n",
              "    </tr>\n",
              "    <tr>\n",
              "      <th>3273</th>\n",
              "      <td>4432</td>\n",
              "      <td>Sweet Smell of Success (1957)</td>\n",
              "      <td>Drama|Film-Noir</td>\n",
              "      <td>4.125000</td>\n",
              "    </tr>\n",
              "    <tr>\n",
              "      <th>2332</th>\n",
              "      <td>3089</td>\n",
              "      <td>Bicycle Thieves (a.k.a. The Bicycle Thief) (a....</td>\n",
              "      <td>Drama</td>\n",
              "      <td>4.125000</td>\n",
              "    </tr>\n",
              "    <tr>\n",
              "      <th>1725</th>\n",
              "      <td>2318</td>\n",
              "      <td>Happiness (1998)</td>\n",
              "      <td>Comedy|Drama</td>\n",
              "      <td>4.125000</td>\n",
              "    </tr>\n",
              "    <tr>\n",
              "      <th>3100</th>\n",
              "      <td>4160</td>\n",
              "      <td>Widow of St. Pierre, The (Veuve de Saint-Pierr...</td>\n",
              "      <td>Drama|Romance</td>\n",
              "      <td>4.125000</td>\n",
              "    </tr>\n",
              "    <tr>\n",
              "      <th>5726</th>\n",
              "      <td>27879</td>\n",
              "      <td>DiG! (2004)</td>\n",
              "      <td>Documentary</td>\n",
              "      <td>4.125000</td>\n",
              "    </tr>\n",
              "    <tr>\n",
              "      <th>168</th>\n",
              "      <td>199</td>\n",
              "      <td>Umbrellas of Cherbourg, The (Parapluies de Che...</td>\n",
              "      <td>Drama|Musical|Romance</td>\n",
              "      <td>4.125000</td>\n",
              "    </tr>\n",
              "  </tbody>\n",
              "</table>\n",
              "</div>"
            ],
            "text/plain": [
              "      filmeId  ...     media\n",
              "2276     3019  ...  4.150000\n",
              "905      1203  ...  4.149123\n",
              "2372     3147  ...  4.148649\n",
              "596       741  ...  4.148148\n",
              "1730     2324  ...  4.147727\n",
              "4176     6016  ...  4.146667\n",
              "1503     2028  ...  4.146277\n",
              "2290     3037  ...  4.145833\n",
              "903      1201  ...  4.145833\n",
              "983      1284  ...  4.142857\n",
              "1650     2203  ...  4.142857\n",
              "9461   168248  ...  4.142857\n",
              "6201    45210  ...  4.142857\n",
              "1532     2067  ...  4.142857\n",
              "7384    79357  ...  4.142857\n",
              "6648    56782  ...  4.142857\n",
              "1590     2132  ...  4.142857\n",
              "688       906  ...  4.142857\n",
              "911      1210  ...  4.137755\n",
              "6926    64716  ...  4.136364\n",
              "7010    68157  ...  4.136364\n",
              "2868     3836  ...  4.133333\n",
              "980      1281  ...  4.133333\n",
              "961      1262  ...  4.127907\n",
              "1072     1392  ...  4.125000\n",
              "3324     4499  ...  4.125000\n",
              "1738     2333  ...  4.125000\n",
              "4993     7706  ...  4.125000\n",
              "978      1279  ...  4.125000\n",
              "976      1277  ...  4.125000\n",
              "2963     3972  ...  4.125000\n",
              "2481     3306  ...  4.125000\n",
              "8229   104069  ...  4.125000\n",
              "158       187  ...  4.125000\n",
              "6044    39869  ...  4.125000\n",
              "9496   170697  ...  4.125000\n",
              "2856     3822  ...  4.125000\n",
              "8666   121231  ...  4.125000\n",
              "2334     3091  ...  4.125000\n",
              "1531     2066  ...  4.125000\n",
              "2739     3677  ...  4.125000\n",
              "583       718  ...  4.125000\n",
              "563       680  ...  4.125000\n",
              "8264   105197  ...  4.125000\n",
              "3273     4432  ...  4.125000\n",
              "2332     3089  ...  4.125000\n",
              "1725     2318  ...  4.125000\n",
              "3100     4160  ...  4.125000\n",
              "5726    27879  ...  4.125000\n",
              "168       199  ...  4.125000\n",
              "\n",
              "[50 rows x 4 columns]"
            ]
          },
          "metadata": {
            "tags": []
          },
          "execution_count": 297
        }
      ]
    },
    {
      "cell_type": "code",
      "metadata": {
        "id": "8JqiRxV_Iqdx",
        "colab_type": "code",
        "outputId": "b01264d3-a581-4ddf-8039-c9bce9577479",
        "colab": {
          "base_uri": "https://localhost:8080/",
          "height": 678
        }
      },
      "source": [
        "# Função que mostra a média de cada filme em gráfico\n",
        "\n",
        "def plot_filme(n):\n",
        "  notas_do_filme = avaliacoes.query(f\"filmeId=={n}\")[\"media\"]\n",
        "  notas_do_filme.plot(kind='hist')\n",
        "  plt.show()\n",
        "  notas_do_filme.plot.box()\n",
        "  plt.show()\n",
        "  return notas_do_filme.describe()\n",
        "plot_filme(1) "
      ],
      "execution_count": 296,
      "outputs": [
        {
          "output_type": "display_data",
          "data": {
            "image/png": "[encoded data removed]",
            "text/plain": [
              "<Figure size 432x288 with 1 Axes>"
            ]
          },
          "metadata": {
            "tags": []
          }
        },
        {
          "output_type": "display_data",
          "data": {
            "image/png": "[encoded data removed]",
            "text/plain": [
              "<Figure size 432x288 with 1 Axes>"
            ]
          },
          "metadata": {
            "tags": []
          }
        },
        {
          "output_type": "execute_result",
          "data": {
            "text/plain": [
              "count    215.000000\n",
              "mean       3.920930\n",
              "std        0.834859\n",
              "min        0.500000\n",
              "25%        3.500000\n",
              "50%        4.000000\n",
              "75%        4.500000\n",
              "max        5.000000\n",
              "Name: media, dtype: float64"
            ]
          },
          "metadata": {
            "tags": []
          },
          "execution_count": 296
        }
      ]
    },
    {
      "cell_type": "code",
      "metadata": {
        "id": "WR0svWz3KVai",
        "colab_type": "code",
        "colab": {}
      },
      "source": [
        "# DESAFIO 2 - Comparar outros filmes com notas próximas e achar distribuições bem diferentes\n",
        "\n",
        "def plot_filme(n):\n",
        "  notas_do_filme = avaliacoes.query(f\"filmeId=={n}\")[\"media\"]\n",
        "  notas_do_filme.plot(kind='hist')\n",
        "  return notas_do_filme.describe()"
      ],
      "execution_count": 0,
      "outputs": []
    },
    {
      "cell_type": "code",
      "metadata": {
        "id": "Io-3aHRNTJoL",
        "colab_type": "code",
        "colab": {
          "base_uri": "https://localhost:8080/",
          "height": 427
        },
        "outputId": "e5969e8a-182d-4ecc-9989-856d8dca61e1"
      },
      "source": [
        "# DESAFIO 2 - Comparar outros filmes com notas próximas e achar distribuições bem diferentes\n",
        "\n",
        "plot_filme(68157)# Inglourious Basterds (2009)"
      ],
      "execution_count": 294,
      "outputs": [
        {
          "output_type": "execute_result",
          "data": {
            "text/plain": [
              "count    88.000000\n",
              "mean      4.136364\n",
              "std       0.819052\n",
              "min       0.500000\n",
              "25%       4.000000\n",
              "50%       4.000000\n",
              "75%       4.500000\n",
              "max       5.000000\n",
              "Name: media, dtype: float64"
            ]
          },
          "metadata": {
            "tags": []
          },
          "execution_count": 294
        },
        {
          "output_type": "display_data",
          "data": {
            "image/png": "[encoded data removed]",
            "text/plain": [
              "<Figure size 432x288 with 1 Axes>"
            ]
          },
          "metadata": {
            "tags": []
          }
        }
      ]
    },
    {
      "cell_type": "code",
      "metadata": {
        "id": "c5XjbzOjTMX-",
        "colab_type": "code",
        "colab": {
          "base_uri": "https://localhost:8080/",
          "height": 427
        },
        "outputId": "9cac29ed-7b86-4795-aa37-767db281a37e"
      },
      "source": [
        "# DESAFIO 2 - Comparar outros filmes com notas próximas e achar distribuições bem diferentes\n",
        "\n",
        "plot_filme(168248\t)# John Wick: Chapter Two (2017)"
      ],
      "execution_count": 293,
      "outputs": [
        {
          "output_type": "execute_result",
          "data": {
            "text/plain": [
              "count    7.000000\n",
              "mean     4.142857\n",
              "std      0.748013\n",
              "min      3.000000\n",
              "25%      3.750000\n",
              "50%      4.000000\n",
              "75%      4.750000\n",
              "max      5.000000\n",
              "Name: media, dtype: float64"
            ]
          },
          "metadata": {
            "tags": []
          },
          "execution_count": 293
        },
        {
          "output_type": "display_data",
          "data": {
            "image/png": "[encoded data removed]",
            "text/plain": [
              "<Figure size 432x288 with 1 Axes>"
            ]
          },
          "metadata": {
            "tags": []
          }
        }
      ]
    },
    {
      "cell_type": "code",
      "metadata": {
        "id": "WOUunMe-Tan_",
        "colab_type": "code",
        "outputId": "943c76b0-3d7b-4072-cab4-32b1182a99c6",
        "colab": {
          "base_uri": "https://localhost:8080/",
          "height": 721
        }
      },
      "source": [
        "# DESAFIO 3/4 - Criar o boxplot dos 10 filmes com mais votos(não é com maior média, é com mais votos) pelo @paulo_caelum (não finalizado)\n",
        "\n",
        "votos_por_filme = avaliacoes.groupby('filmeId').size()\n",
        "votos_por_filme.name = 'total_votos'\n",
        "filmes_com_media_votos = filmes_com_media.join(votos_por_filme, on='filmeId')\n",
        "filmes_com_media_votos\n",
        "top10 = filmes_com_media_votos.sort_values(\"total_votos\",ascending=False)\n",
        "top10 = top10.head(10)\n",
        "sns.set(style=\"whitegrid\")\n",
        "plt.figure(figsize=(15,8))\n",
        "plt.xticks(rotation=60)\n",
        "sns.boxplot(x=\"titulo\", y=\"total_votos\", data = top10, palette=\"Set3\", saturation=0.75, width=.8) "
      ],
      "execution_count": 292,
      "outputs": [
        {
          "output_type": "execute_result",
          "data": {
            "text/plain": [
              "<matplotlib.axes._subplots.AxesSubplot at 0x7f904e10e5f8>"
            ]
          },
          "metadata": {
            "tags": []
          },
          "execution_count": 292
        },
        {
          "output_type": "display_data",
          "data": {
            "image/png": "[encoded data removed]",
            "text/plain": [
              "<Figure size 1080x576 with 1 Axes>"
            ]
          },
          "metadata": {
            "tags": []
          }
        }
      ]
    },
    {
      "cell_type": "code",
      "metadata": {
        "id": "2n-ViG_XDAfP",
        "colab_type": "code",
        "colab": {}
      },
      "source": [
        "# DESAFIO 5- Calcular moda, média, mediana dos filmes. Explore filmes com notas mais próximas de 0.5, 3 e 5."
      ],
      "execution_count": 0,
      "outputs": []
    },
    {
      "cell_type": "code",
      "metadata": {
        "id": "fcWeuXlgop1i",
        "colab_type": "code",
        "colab": {}
      },
      "source": [
        "# DESAFIO 6 - Plotar o boxplot e o histograma um do lado do outro (na mesma figura ou em figuras distintas)"
      ],
      "execution_count": 0,
      "outputs": []
    },
    {
      "cell_type": "code",
      "metadata": {
        "id": "GoeZBmb3o2p6",
        "colab_type": "code",
        "colab": {}
      },
      "source": [
        "# DESAFIO 7 - Gráfico de notas média por ano  (separar o ano primeiro)"
      ],
      "execution_count": 0,
      "outputs": []
    },
    {
      "cell_type": "markdown",
      "metadata": {
        "id": "ILCF26-qrO1x",
        "colab_type": "text"
      },
      "source": [
        "# Não esqueça de compartilhar a solução dos seus desafios com nossos instrutores, seja no twitter ou linkedin. Boa sorte!"
      ]
    }
  ]
}